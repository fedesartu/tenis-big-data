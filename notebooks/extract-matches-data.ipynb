{
 "cells": [
  {
   "cell_type": "markdown",
   "metadata": {},
   "source": [
    "# Extract and Clean Data from all_matches.csv"
   ]
  },
  {
   "cell_type": "markdown",
   "metadata": {},
   "source": [
    "Primero creamos un Spark Context"
   ]
  },
  {
   "cell_type": "code",
   "execution_count": 1,
   "metadata": {},
   "outputs": [],
   "source": [
    "import findspark\n",
    "findspark.init()\n",
    "\n",
    "from pyspark.sql import SparkSession\n",
    "from pyspark.sql.types import  (StructType, StructField, DateType, BooleanType, DoubleType, IntegerType, StringType, TimestampType)\n",
    "from pyspark.sql.functions import col, udf\n",
    "import os\n",
    "\n",
    "spark = SparkSession.builder.master(\"local[1]\").appName(\"tenis-matches\").getOrCreate()"
   ]
  },
  {
   "cell_type": "code",
   "execution_count": 2,
   "metadata": {},
   "outputs": [],
   "source": [
    "raw_file_path = os.path.join(os.path.abspath(os.path.pardir), \"dataset\", \"raw\", \"all_matches.csv\")\n",
    "matches = spark.read.csv(\"file:///\" + raw_file_path, header = True)"
   ]
  },
  {
   "cell_type": "code",
   "execution_count": 3,
   "metadata": {},
   "outputs": [
    {
     "name": "stdout",
     "output_type": "stream",
     "text": [
      "There are 4295827 matches.\n"
     ]
    }
   ],
   "source": [
    "print(\"There are {} matches.\".format(matches.count()))"
   ]
  },
  {
   "cell_type": "markdown",
   "metadata": {},
   "source": [
    "### Eliminaremos algunas columnas del dataset que no nos sirven"
   ]
  },
  {
   "cell_type": "code",
   "execution_count": 4,
   "metadata": {},
   "outputs": [
    {
     "name": "stdout",
     "output_type": "stream",
     "text": [
      "root\n",
      " |-- start_date: string (nullable = true)\n",
      " |-- end_date: string (nullable = true)\n",
      " |-- location: string (nullable = true)\n",
      " |-- court_surface: string (nullable = true)\n",
      " |-- prize_money: string (nullable = true)\n",
      " |-- currency: string (nullable = true)\n",
      " |-- year: string (nullable = true)\n",
      " |-- player_id: string (nullable = true)\n",
      " |-- player_name: string (nullable = true)\n",
      " |-- opponent_id: string (nullable = true)\n",
      " |-- opponent_name: string (nullable = true)\n",
      " |-- tournament: string (nullable = true)\n",
      " |-- round: string (nullable = true)\n",
      " |-- num_sets: string (nullable = true)\n",
      " |-- sets_won: string (nullable = true)\n",
      " |-- games_won: string (nullable = true)\n",
      " |-- games_against: string (nullable = true)\n",
      " |-- tiebreaks_won: string (nullable = true)\n",
      " |-- tiebreaks_total: string (nullable = true)\n",
      " |-- serve_rating: string (nullable = true)\n",
      " |-- aces: string (nullable = true)\n",
      " |-- double_faults: string (nullable = true)\n",
      " |-- first_serve_made: string (nullable = true)\n",
      " |-- first_serve_attempted: string (nullable = true)\n",
      " |-- first_serve_points_made: string (nullable = true)\n",
      " |-- first_serve_points_attempted: string (nullable = true)\n",
      " |-- second_serve_points_made: string (nullable = true)\n",
      " |-- second_serve_points_attempted: string (nullable = true)\n",
      " |-- break_points_saved: string (nullable = true)\n",
      " |-- break_points_against: string (nullable = true)\n",
      " |-- service_games_won: string (nullable = true)\n",
      " |-- return_rating: string (nullable = true)\n",
      " |-- first_serve_return_points_made: string (nullable = true)\n",
      " |-- first_serve_return_points_attempted: string (nullable = true)\n",
      " |-- second_serve_return_points_made: string (nullable = true)\n",
      " |-- second_serve_return_points_attempted: string (nullable = true)\n",
      " |-- break_points_made: string (nullable = true)\n",
      " |-- break_points_attempted: string (nullable = true)\n",
      " |-- return_games_played: string (nullable = true)\n",
      " |-- service_points_won: string (nullable = true)\n",
      " |-- service_points_attempted: string (nullable = true)\n",
      " |-- return_points_won: string (nullable = true)\n",
      " |-- return_points_attempted: string (nullable = true)\n",
      " |-- total_points_won: string (nullable = true)\n",
      " |-- total_points: string (nullable = true)\n",
      " |-- duration: string (nullable = true)\n",
      " |-- player_victory: string (nullable = true)\n",
      " |-- retirement: string (nullable = true)\n",
      " |-- seed: string (nullable = true)\n",
      " |-- won_first_set: string (nullable = true)\n",
      " |-- doubles: string (nullable = true)\n",
      " |-- masters: string (nullable = true)\n",
      " |-- round_num: string (nullable = true)\n",
      " |-- nation: string (nullable = true)\n",
      "\n"
     ]
    }
   ],
   "source": [
    "matches.printSchema()"
   ]
  },
  {
   "cell_type": "markdown",
   "metadata": {},
   "source": [
    "Eliminaremos las siguientes columnas que no serán útiles para nuestro análisis:\n",
    "- end_date\n",
    "- location\n",
    "- prize_money\n",
    "- currency\n",
    "- round\n",
    "- serve_rating\n",
    "- aces\n",
    "- double_faults\n",
    "- first_serve_made\n",
    "- first_serve_attempted\n",
    "- first_serve_points_made\n",
    "- first_serve_points_attempted\n",
    "- second_serve_points_made\n",
    "- second_serve_points_attempted\n",
    "- break_points_saved\n",
    "- break_points_against\n",
    "- service_games_won\n",
    "- return_rating\n",
    "- first_serve_return_points_made\n",
    "- first_serve_return_points_attempted\n",
    "- second_serve_return_points_made\n",
    "- second_serve_return_points_attempted\n",
    "- break_points_made\n",
    "- break_points_attempted\n",
    "- return_games_played\n",
    "- service_points_won\n",
    "- service_points_attempted\n",
    "- return_points_won\n",
    "- return_points_attempted\n",
    "- total_points_won\n",
    "- total_points\n",
    "- duration\n",
    "- seed\n",
    "- masters\n",
    "- round_num\n",
    "- nation"
   ]
  },
  {
   "cell_type": "code",
   "execution_count": 5,
   "metadata": {},
   "outputs": [],
   "source": [
    "matches = matches.drop(\"end_date\")\\\n",
    "                .drop(\"location\")\\\n",
    "                .drop(\"prize_money\")\\\n",
    "                .drop(\"currency\")\\\n",
    "                .drop(\"round\")\\\n",
    "                .drop(\"serve_rating\")\\\n",
    "                .drop(\"aces\")\\\n",
    "                .drop(\"double_faults\")\\\n",
    "                .drop(\"first_serve_made\")\\\n",
    "                .drop(\"first_serve_attempted\")\\\n",
    "                .drop(\"first_serve_points_made\")\\\n",
    "                .drop(\"first_serve_points_attempted\")\\\n",
    "                .drop(\"second_serve_points_made\")\\\n",
    "                .drop(\"second_serve_points_attempted\")\\\n",
    "                .drop(\"break_points_saved\")\\\n",
    "                .drop(\"break_points_against\")\\\n",
    "                .drop(\"service_games_won\")\\\n",
    "                .drop(\"return_rating\")\\\n",
    "                .drop(\"first_serve_return_points_made\")\\\n",
    "                .drop(\"first_serve_return_points_attempted\")\\\n",
    "                .drop(\"second_serve_return_points_made\")\\\n",
    "                .drop(\"second_serve_return_points_attempted\")\\\n",
    "                .drop(\"break_points_made\")\\\n",
    "                .drop(\"break_points_attempted\")\\\n",
    "                .drop(\"return_games_played\")\\\n",
    "                .drop(\"service_points_won\")\\\n",
    "                .drop(\"service_points_attempted\")\\\n",
    "                .drop(\"return_points_won\")\\\n",
    "                .drop(\"return_points_attempted\")\\\n",
    "                .drop(\"total_points_won\")\\\n",
    "                .drop(\"total_points\")\\\n",
    "                .drop(\"duration\")\\\n",
    "                .drop(\"seed\")\\\n",
    "                .drop(\"masters\")\\\n",
    "                .drop(\"round_num\")\\\n",
    "                .drop(\"nation\")"
   ]
  },
  {
   "cell_type": "code",
   "execution_count": 6,
   "metadata": {},
   "outputs": [
    {
     "name": "stdout",
     "output_type": "stream",
     "text": [
      "root\n",
      " |-- start_date: string (nullable = true)\n",
      " |-- court_surface: string (nullable = true)\n",
      " |-- year: string (nullable = true)\n",
      " |-- player_id: string (nullable = true)\n",
      " |-- player_name: string (nullable = true)\n",
      " |-- opponent_id: string (nullable = true)\n",
      " |-- opponent_name: string (nullable = true)\n",
      " |-- tournament: string (nullable = true)\n",
      " |-- num_sets: string (nullable = true)\n",
      " |-- sets_won: string (nullable = true)\n",
      " |-- games_won: string (nullable = true)\n",
      " |-- games_against: string (nullable = true)\n",
      " |-- tiebreaks_won: string (nullable = true)\n",
      " |-- tiebreaks_total: string (nullable = true)\n",
      " |-- player_victory: string (nullable = true)\n",
      " |-- retirement: string (nullable = true)\n",
      " |-- won_first_set: string (nullable = true)\n",
      " |-- doubles: string (nullable = true)\n",
      "\n"
     ]
    }
   ],
   "source": [
    "matches.printSchema()"
   ]
  },
  {
   "cell_type": "markdown",
   "metadata": {},
   "source": [
    "Eliminaremos registros con muchos valores nulos"
   ]
  },
  {
   "cell_type": "code",
   "execution_count": 7,
   "metadata": {},
   "outputs": [],
   "source": [
    "# define functions to iterate in a generic way in dataframe\n",
    "\n",
    "def print_null_value_count(df, column_name):\n",
    "    null_values_count = df.where(df[column_name].isNull()).count()\n",
    "    print(\"Cantidad de valores nulos para {0} : {1}.\".format(column_name, null_values_count))\n",
    "    \n",
    "def get_null_values_in_dataframe(df):\n",
    "    for column in df.columns:\n",
    "        print_null_value_count(df, column)"
   ]
  },
  {
   "cell_type": "code",
   "execution_count": 8,
   "metadata": {},
   "outputs": [
    {
     "ename": "KeyboardInterrupt",
     "evalue": "",
     "output_type": "error",
     "traceback": [
      "\u001b[1;31m---------------------------------------------------------------------------\u001b[0m",
      "\u001b[1;31mKeyboardInterrupt\u001b[0m                         Traceback (most recent call last)",
      "\u001b[1;32m<ipython-input-8-f4feede09768>\u001b[0m in \u001b[0;36m<module>\u001b[1;34m\u001b[0m\n\u001b[1;32m----> 1\u001b[1;33m \u001b[0mget_null_values_in_dataframe\u001b[0m\u001b[1;33m(\u001b[0m\u001b[0mmatches\u001b[0m\u001b[1;33m)\u001b[0m\u001b[1;33m\u001b[0m\u001b[1;33m\u001b[0m\u001b[0m\n\u001b[0m",
      "\u001b[1;32m<ipython-input-7-b6c64f44176e>\u001b[0m in \u001b[0;36mget_null_values_in_dataframe\u001b[1;34m(df)\u001b[0m\n\u001b[0;32m      7\u001b[0m \u001b[1;32mdef\u001b[0m \u001b[0mget_null_values_in_dataframe\u001b[0m\u001b[1;33m(\u001b[0m\u001b[0mdf\u001b[0m\u001b[1;33m)\u001b[0m\u001b[1;33m:\u001b[0m\u001b[1;33m\u001b[0m\u001b[1;33m\u001b[0m\u001b[0m\n\u001b[0;32m      8\u001b[0m     \u001b[1;32mfor\u001b[0m \u001b[0mcolumn\u001b[0m \u001b[1;32min\u001b[0m \u001b[0mdf\u001b[0m\u001b[1;33m.\u001b[0m\u001b[0mcolumns\u001b[0m\u001b[1;33m:\u001b[0m\u001b[1;33m\u001b[0m\u001b[1;33m\u001b[0m\u001b[0m\n\u001b[1;32m----> 9\u001b[1;33m         \u001b[0mprint_null_value_count\u001b[0m\u001b[1;33m(\u001b[0m\u001b[0mdf\u001b[0m\u001b[1;33m,\u001b[0m \u001b[0mcolumn\u001b[0m\u001b[1;33m)\u001b[0m\u001b[1;33m\u001b[0m\u001b[1;33m\u001b[0m\u001b[0m\n\u001b[0m",
      "\u001b[1;32m<ipython-input-7-b6c64f44176e>\u001b[0m in \u001b[0;36mprint_null_value_count\u001b[1;34m(df, column_name)\u001b[0m\n\u001b[0;32m      2\u001b[0m \u001b[1;33m\u001b[0m\u001b[0m\n\u001b[0;32m      3\u001b[0m \u001b[1;32mdef\u001b[0m \u001b[0mprint_null_value_count\u001b[0m\u001b[1;33m(\u001b[0m\u001b[0mdf\u001b[0m\u001b[1;33m,\u001b[0m \u001b[0mcolumn_name\u001b[0m\u001b[1;33m)\u001b[0m\u001b[1;33m:\u001b[0m\u001b[1;33m\u001b[0m\u001b[1;33m\u001b[0m\u001b[0m\n\u001b[1;32m----> 4\u001b[1;33m     \u001b[0mnull_values_count\u001b[0m \u001b[1;33m=\u001b[0m \u001b[0mdf\u001b[0m\u001b[1;33m.\u001b[0m\u001b[0mwhere\u001b[0m\u001b[1;33m(\u001b[0m\u001b[0mdf\u001b[0m\u001b[1;33m[\u001b[0m\u001b[0mcolumn_name\u001b[0m\u001b[1;33m]\u001b[0m\u001b[1;33m.\u001b[0m\u001b[0misNull\u001b[0m\u001b[1;33m(\u001b[0m\u001b[1;33m)\u001b[0m\u001b[1;33m)\u001b[0m\u001b[1;33m.\u001b[0m\u001b[0mcount\u001b[0m\u001b[1;33m(\u001b[0m\u001b[1;33m)\u001b[0m\u001b[1;33m\u001b[0m\u001b[1;33m\u001b[0m\u001b[0m\n\u001b[0m\u001b[0;32m      5\u001b[0m     \u001b[0mprint\u001b[0m\u001b[1;33m(\u001b[0m\u001b[1;34m\"Cantidad de valores nulos para {0} : {1}.\"\u001b[0m\u001b[1;33m.\u001b[0m\u001b[0mformat\u001b[0m\u001b[1;33m(\u001b[0m\u001b[0mcolumn_name\u001b[0m\u001b[1;33m,\u001b[0m \u001b[0mnull_values_count\u001b[0m\u001b[1;33m)\u001b[0m\u001b[1;33m)\u001b[0m\u001b[1;33m\u001b[0m\u001b[1;33m\u001b[0m\u001b[0m\n\u001b[0;32m      6\u001b[0m \u001b[1;33m\u001b[0m\u001b[0m\n",
      "\u001b[1;32m~\\Desktop\\spark\\python\\pyspark\\sql\\dataframe.py\u001b[0m in \u001b[0;36mcount\u001b[1;34m(self)\u001b[0m\n\u001b[0;32m    522\u001b[0m         \u001b[1;36m2\u001b[0m\u001b[1;33m\u001b[0m\u001b[1;33m\u001b[0m\u001b[0m\n\u001b[0;32m    523\u001b[0m         \"\"\"\n\u001b[1;32m--> 524\u001b[1;33m         \u001b[1;32mreturn\u001b[0m \u001b[0mint\u001b[0m\u001b[1;33m(\u001b[0m\u001b[0mself\u001b[0m\u001b[1;33m.\u001b[0m\u001b[0m_jdf\u001b[0m\u001b[1;33m.\u001b[0m\u001b[0mcount\u001b[0m\u001b[1;33m(\u001b[0m\u001b[1;33m)\u001b[0m\u001b[1;33m)\u001b[0m\u001b[1;33m\u001b[0m\u001b[1;33m\u001b[0m\u001b[0m\n\u001b[0m\u001b[0;32m    525\u001b[0m \u001b[1;33m\u001b[0m\u001b[0m\n\u001b[0;32m    526\u001b[0m     \u001b[1;33m@\u001b[0m\u001b[0mignore_unicode_prefix\u001b[0m\u001b[1;33m\u001b[0m\u001b[1;33m\u001b[0m\u001b[0m\n",
      "\u001b[1;32m~\\Desktop\\spark\\python\\lib\\py4j-0.10.7-src.zip\\py4j\\java_gateway.py\u001b[0m in \u001b[0;36m__call__\u001b[1;34m(self, *args)\u001b[0m\n\u001b[0;32m   1253\u001b[0m             \u001b[0mproto\u001b[0m\u001b[1;33m.\u001b[0m\u001b[0mEND_COMMAND_PART\u001b[0m\u001b[1;33m\u001b[0m\u001b[1;33m\u001b[0m\u001b[0m\n\u001b[0;32m   1254\u001b[0m \u001b[1;33m\u001b[0m\u001b[0m\n\u001b[1;32m-> 1255\u001b[1;33m         \u001b[0manswer\u001b[0m \u001b[1;33m=\u001b[0m \u001b[0mself\u001b[0m\u001b[1;33m.\u001b[0m\u001b[0mgateway_client\u001b[0m\u001b[1;33m.\u001b[0m\u001b[0msend_command\u001b[0m\u001b[1;33m(\u001b[0m\u001b[0mcommand\u001b[0m\u001b[1;33m)\u001b[0m\u001b[1;33m\u001b[0m\u001b[1;33m\u001b[0m\u001b[0m\n\u001b[0m\u001b[0;32m   1256\u001b[0m         return_value = get_return_value(\n\u001b[0;32m   1257\u001b[0m             answer, self.gateway_client, self.target_id, self.name)\n",
      "\u001b[1;32m~\\Desktop\\spark\\python\\lib\\py4j-0.10.7-src.zip\\py4j\\java_gateway.py\u001b[0m in \u001b[0;36msend_command\u001b[1;34m(self, command, retry, binary)\u001b[0m\n\u001b[0;32m    983\u001b[0m         \u001b[0mconnection\u001b[0m \u001b[1;33m=\u001b[0m \u001b[0mself\u001b[0m\u001b[1;33m.\u001b[0m\u001b[0m_get_connection\u001b[0m\u001b[1;33m(\u001b[0m\u001b[1;33m)\u001b[0m\u001b[1;33m\u001b[0m\u001b[1;33m\u001b[0m\u001b[0m\n\u001b[0;32m    984\u001b[0m         \u001b[1;32mtry\u001b[0m\u001b[1;33m:\u001b[0m\u001b[1;33m\u001b[0m\u001b[1;33m\u001b[0m\u001b[0m\n\u001b[1;32m--> 985\u001b[1;33m             \u001b[0mresponse\u001b[0m \u001b[1;33m=\u001b[0m \u001b[0mconnection\u001b[0m\u001b[1;33m.\u001b[0m\u001b[0msend_command\u001b[0m\u001b[1;33m(\u001b[0m\u001b[0mcommand\u001b[0m\u001b[1;33m)\u001b[0m\u001b[1;33m\u001b[0m\u001b[1;33m\u001b[0m\u001b[0m\n\u001b[0m\u001b[0;32m    986\u001b[0m             \u001b[1;32mif\u001b[0m \u001b[0mbinary\u001b[0m\u001b[1;33m:\u001b[0m\u001b[1;33m\u001b[0m\u001b[1;33m\u001b[0m\u001b[0m\n\u001b[0;32m    987\u001b[0m                 \u001b[1;32mreturn\u001b[0m \u001b[0mresponse\u001b[0m\u001b[1;33m,\u001b[0m \u001b[0mself\u001b[0m\u001b[1;33m.\u001b[0m\u001b[0m_create_connection_guard\u001b[0m\u001b[1;33m(\u001b[0m\u001b[0mconnection\u001b[0m\u001b[1;33m)\u001b[0m\u001b[1;33m\u001b[0m\u001b[1;33m\u001b[0m\u001b[0m\n",
      "\u001b[1;32m~\\Desktop\\spark\\python\\lib\\py4j-0.10.7-src.zip\\py4j\\java_gateway.py\u001b[0m in \u001b[0;36msend_command\u001b[1;34m(self, command)\u001b[0m\n\u001b[0;32m   1150\u001b[0m \u001b[1;33m\u001b[0m\u001b[0m\n\u001b[0;32m   1151\u001b[0m         \u001b[1;32mtry\u001b[0m\u001b[1;33m:\u001b[0m\u001b[1;33m\u001b[0m\u001b[1;33m\u001b[0m\u001b[0m\n\u001b[1;32m-> 1152\u001b[1;33m             \u001b[0manswer\u001b[0m \u001b[1;33m=\u001b[0m \u001b[0msmart_decode\u001b[0m\u001b[1;33m(\u001b[0m\u001b[0mself\u001b[0m\u001b[1;33m.\u001b[0m\u001b[0mstream\u001b[0m\u001b[1;33m.\u001b[0m\u001b[0mreadline\u001b[0m\u001b[1;33m(\u001b[0m\u001b[1;33m)\u001b[0m\u001b[1;33m[\u001b[0m\u001b[1;33m:\u001b[0m\u001b[1;33m-\u001b[0m\u001b[1;36m1\u001b[0m\u001b[1;33m]\u001b[0m\u001b[1;33m)\u001b[0m\u001b[1;33m\u001b[0m\u001b[1;33m\u001b[0m\u001b[0m\n\u001b[0m\u001b[0;32m   1153\u001b[0m             \u001b[0mlogger\u001b[0m\u001b[1;33m.\u001b[0m\u001b[0mdebug\u001b[0m\u001b[1;33m(\u001b[0m\u001b[1;34m\"Answer received: {0}\"\u001b[0m\u001b[1;33m.\u001b[0m\u001b[0mformat\u001b[0m\u001b[1;33m(\u001b[0m\u001b[0manswer\u001b[0m\u001b[1;33m)\u001b[0m\u001b[1;33m)\u001b[0m\u001b[1;33m\u001b[0m\u001b[1;33m\u001b[0m\u001b[0m\n\u001b[0;32m   1154\u001b[0m             \u001b[1;32mif\u001b[0m \u001b[0manswer\u001b[0m\u001b[1;33m.\u001b[0m\u001b[0mstartswith\u001b[0m\u001b[1;33m(\u001b[0m\u001b[0mproto\u001b[0m\u001b[1;33m.\u001b[0m\u001b[0mRETURN_MESSAGE\u001b[0m\u001b[1;33m)\u001b[0m\u001b[1;33m:\u001b[0m\u001b[1;33m\u001b[0m\u001b[1;33m\u001b[0m\u001b[0m\n",
      "\u001b[1;32m~\\.conda\\envs\\Big Data\\lib\\socket.py\u001b[0m in \u001b[0;36mreadinto\u001b[1;34m(self, b)\u001b[0m\n\u001b[0;32m    587\u001b[0m         \u001b[1;32mwhile\u001b[0m \u001b[1;32mTrue\u001b[0m\u001b[1;33m:\u001b[0m\u001b[1;33m\u001b[0m\u001b[1;33m\u001b[0m\u001b[0m\n\u001b[0;32m    588\u001b[0m             \u001b[1;32mtry\u001b[0m\u001b[1;33m:\u001b[0m\u001b[1;33m\u001b[0m\u001b[1;33m\u001b[0m\u001b[0m\n\u001b[1;32m--> 589\u001b[1;33m                 \u001b[1;32mreturn\u001b[0m \u001b[0mself\u001b[0m\u001b[1;33m.\u001b[0m\u001b[0m_sock\u001b[0m\u001b[1;33m.\u001b[0m\u001b[0mrecv_into\u001b[0m\u001b[1;33m(\u001b[0m\u001b[0mb\u001b[0m\u001b[1;33m)\u001b[0m\u001b[1;33m\u001b[0m\u001b[1;33m\u001b[0m\u001b[0m\n\u001b[0m\u001b[0;32m    590\u001b[0m             \u001b[1;32mexcept\u001b[0m \u001b[0mtimeout\u001b[0m\u001b[1;33m:\u001b[0m\u001b[1;33m\u001b[0m\u001b[1;33m\u001b[0m\u001b[0m\n\u001b[0;32m    591\u001b[0m                 \u001b[0mself\u001b[0m\u001b[1;33m.\u001b[0m\u001b[0m_timeout_occurred\u001b[0m \u001b[1;33m=\u001b[0m \u001b[1;32mTrue\u001b[0m\u001b[1;33m\u001b[0m\u001b[1;33m\u001b[0m\u001b[0m\n",
      "\u001b[1;31mKeyboardInterrupt\u001b[0m: "
     ]
    }
   ],
   "source": [
    "get_null_values_in_dataframe(matches)"
   ]
  },
  {
   "cell_type": "markdown",
   "metadata": {},
   "source": [
    "En base a los datos obtenidos, es que se decide eliminar las siguientes columnas debido a que muchos valores son nulos, y además esta será obtenida de otro dataset:\n",
    "- player_name\n",
    "- opponent_name"
   ]
  },
  {
   "cell_type": "code",
   "execution_count": 8,
   "metadata": {},
   "outputs": [],
   "source": [
    "matches = matches.drop(\"player_name\").drop(\"opponent_name\")"
   ]
  },
  {
   "cell_type": "markdown",
   "metadata": {},
   "source": [
    "Luego, eliminaremos los datos donde tengan alguna propiedad nula."
   ]
  },
  {
   "cell_type": "code",
   "execution_count": 9,
   "metadata": {},
   "outputs": [],
   "source": [
    "matches = matches.na.drop()"
   ]
  },
  {
   "cell_type": "markdown",
   "metadata": {},
   "source": [
    "Comprobamos no existan datos con propiedades nulas"
   ]
  },
  {
   "cell_type": "code",
   "execution_count": null,
   "metadata": {},
   "outputs": [],
   "source": [
    "get_null_values_in_dataframe(matches)"
   ]
  },
  {
   "cell_type": "code",
   "execution_count": 12,
   "metadata": {},
   "outputs": [
    {
     "name": "stdout",
     "output_type": "stream",
     "text": [
      "Nueva cantidad de partidos : 4213346\n"
     ]
    }
   ],
   "source": [
    "print(\"Nueva cantidad de partidos : {0}\".format(matches.select(\"*\").count()))"
   ]
  },
  {
   "cell_type": "markdown",
   "metadata": {},
   "source": [
    "### Modificaremos los tipos de algunos datos para que sean mas amigables luego"
   ]
  },
  {
   "cell_type": "code",
   "execution_count": 10,
   "metadata": {},
   "outputs": [
    {
     "name": "stdout",
     "output_type": "stream",
     "text": [
      "root\n",
      " |-- start_date: string (nullable = true)\n",
      " |-- court_surface: string (nullable = true)\n",
      " |-- year: string (nullable = true)\n",
      " |-- player_id: string (nullable = true)\n",
      " |-- opponent_id: string (nullable = true)\n",
      " |-- tournament: string (nullable = true)\n",
      " |-- num_sets: string (nullable = true)\n",
      " |-- sets_won: string (nullable = true)\n",
      " |-- games_won: string (nullable = true)\n",
      " |-- games_against: string (nullable = true)\n",
      " |-- tiebreaks_won: string (nullable = true)\n",
      " |-- tiebreaks_total: string (nullable = true)\n",
      " |-- player_victory: string (nullable = true)\n",
      " |-- retirement: string (nullable = true)\n",
      " |-- won_first_set: string (nullable = true)\n",
      " |-- doubles: string (nullable = true)\n",
      "\n"
     ]
    }
   ],
   "source": [
    "matches.printSchema()"
   ]
  },
  {
   "cell_type": "markdown",
   "metadata": {},
   "source": [
    "Observaremos los tipos que deberían ser booleanos"
   ]
  },
  {
   "cell_type": "code",
   "execution_count": 13,
   "metadata": {},
   "outputs": [
    {
     "name": "stdout",
     "output_type": "stream",
     "text": [
      "+--------------+----------+-------------+-------+\n",
      "|player_victory|retirement|won_first_set|doubles|\n",
      "+--------------+----------+-------------+-------+\n",
      "|             f|         f|            f|      f|\n",
      "|             t|         f|            t|      f|\n",
      "|             f|         f|            f|      f|\n",
      "|             f|         f|            t|      t|\n",
      "|             t|         f|            t|      f|\n",
      "+--------------+----------+-------------+-------+\n",
      "only showing top 5 rows\n",
      "\n"
     ]
    }
   ],
   "source": [
    "boolean_columns = [\"player_victory\", \"retirement\", \"won_first_set\", \"doubles\"]\n",
    "matches.select(boolean_columns).show(5)"
   ]
  },
  {
   "cell_type": "markdown",
   "metadata": {},
   "source": [
    "Pondremos valores de True y False, en lugar de f y t."
   ]
  },
  {
   "cell_type": "code",
   "execution_count": 14,
   "metadata": {},
   "outputs": [],
   "source": [
    "from pyspark.sql.functions import col,udf\n",
    "\n",
    "boolParse = udf(lambda x: True if x == \"t\" else False, BooleanType())\n",
    "\n",
    "def parse_boolean_columns(df, columns):\n",
    "    for column in columns:\n",
    "        df = df.withColumn(column, boolParse(col(column)))\n",
    "    return df"
   ]
  },
  {
   "cell_type": "code",
   "execution_count": 15,
   "metadata": {},
   "outputs": [],
   "source": [
    "matches = parse_boolean_columns(matches, boolean_columns)"
   ]
  },
  {
   "cell_type": "code",
   "execution_count": 16,
   "metadata": {},
   "outputs": [
    {
     "name": "stdout",
     "output_type": "stream",
     "text": [
      "+--------------+----------+-------------+-------+\n",
      "|player_victory|retirement|won_first_set|doubles|\n",
      "+--------------+----------+-------------+-------+\n",
      "|         false|     false|        false|  false|\n",
      "|          true|     false|         true|  false|\n",
      "|         false|     false|        false|  false|\n",
      "|         false|     false|         true|   true|\n",
      "|          true|     false|         true|  false|\n",
      "+--------------+----------+-------------+-------+\n",
      "only showing top 5 rows\n",
      "\n"
     ]
    }
   ],
   "source": [
    "matches.select(boolean_columns).show(5)"
   ]
  },
  {
   "cell_type": "markdown",
   "metadata": {},
   "source": [
    "Observaremos los tipos que deberían ser numeros"
   ]
  },
  {
   "cell_type": "code",
   "execution_count": 17,
   "metadata": {},
   "outputs": [
    {
     "name": "stdout",
     "output_type": "stream",
     "text": [
      "+--------+--------+---------+-------------+-------------+---------------+\n",
      "|num_sets|sets_won|games_won|games_against|tiebreaks_won|tiebreaks_total|\n",
      "+--------+--------+---------+-------------+-------------+---------------+\n",
      "|       2|       0|        3|           12|            0|              0|\n",
      "|       3|       2|       16|           12|            0|              0|\n",
      "|       2|       0|        7|           12|            0|              0|\n",
      "|       3|       1|       18|           22|            1|              1|\n",
      "|       3|       2|       17|           15|            1|              1|\n",
      "+--------+--------+---------+-------------+-------------+---------------+\n",
      "only showing top 5 rows\n",
      "\n"
     ]
    }
   ],
   "source": [
    "numeric_columns = [\"num_sets\", \"sets_won\", \"games_won\", \"games_against\", \"tiebreaks_won\", \"tiebreaks_total\"]\n",
    "matches.select(numeric_columns).show(5)"
   ]
  },
  {
   "cell_type": "code",
   "execution_count": 18,
   "metadata": {},
   "outputs": [],
   "source": [
    "from pyspark.sql.functions import col,udf\n",
    "\n",
    "def parse_numeric_columns(df, columns):\n",
    "    for column in columns:\n",
    "        df = df.withColumn(column, col(column).astype(IntegerType()))\n",
    "    return df"
   ]
  },
  {
   "cell_type": "code",
   "execution_count": 19,
   "metadata": {},
   "outputs": [
    {
     "name": "stdout",
     "output_type": "stream",
     "text": [
      "root\n",
      " |-- start_date: string (nullable = true)\n",
      " |-- court_surface: string (nullable = true)\n",
      " |-- year: string (nullable = true)\n",
      " |-- player_id: string (nullable = true)\n",
      " |-- opponent_id: string (nullable = true)\n",
      " |-- tournament: string (nullable = true)\n",
      " |-- num_sets: integer (nullable = true)\n",
      " |-- sets_won: integer (nullable = true)\n",
      " |-- games_won: integer (nullable = true)\n",
      " |-- games_against: integer (nullable = true)\n",
      " |-- tiebreaks_won: integer (nullable = true)\n",
      " |-- tiebreaks_total: integer (nullable = true)\n",
      " |-- player_victory: boolean (nullable = true)\n",
      " |-- retirement: boolean (nullable = true)\n",
      " |-- won_first_set: boolean (nullable = true)\n",
      " |-- doubles: boolean (nullable = true)\n",
      "\n"
     ]
    }
   ],
   "source": [
    "matches = parse_numeric_columns(matches, numeric_columns)\n",
    "matches.printSchema()"
   ]
  },
  {
   "cell_type": "markdown",
   "metadata": {},
   "source": [
    "Eliminaremos strings mal formados"
   ]
  },
  {
   "cell_type": "code",
   "execution_count": 1,
   "metadata": {},
   "outputs": [],
   "source": [
    "def removeCharacter(df, column, char):\n",
    "    removeFn = udf(lambda x: x.replace(char, ''), StringType())\n",
    "    return df.withColumn(column, removeFn(col(column)))"
   ]
  },
  {
   "cell_type": "code",
   "execution_count": 2,
   "metadata": {},
   "outputs": [
    {
     "ename": "NameError",
     "evalue": "name 'matches' is not defined",
     "output_type": "error",
     "traceback": [
      "\u001b[1;31m---------------------------------------------------------------------------\u001b[0m",
      "\u001b[1;31mNameError\u001b[0m                                 Traceback (most recent call last)",
      "\u001b[1;32m<ipython-input-2-68bbec584b9b>\u001b[0m in \u001b[0;36m<module>\u001b[1;34m\u001b[0m\n\u001b[1;32m----> 1\u001b[1;33m \u001b[0mmatches\u001b[0m \u001b[1;33m=\u001b[0m \u001b[0mremoveCharacter\u001b[0m\u001b[1;33m(\u001b[0m\u001b[0mmatches\u001b[0m\u001b[1;33m,\u001b[0m \u001b[1;34m\"tournament\"\u001b[0m\u001b[1;33m,\u001b[0m \u001b[1;34m'\"'\u001b[0m\u001b[1;33m)\u001b[0m\u001b[1;33m\u001b[0m\u001b[1;33m\u001b[0m\u001b[0m\n\u001b[0m",
      "\u001b[1;31mNameError\u001b[0m: name 'matches' is not defined"
     ]
    }
   ],
   "source": [
    "matches = removeCharacter(matches, \"tournament\", '\"')\n",
    "matches = removeCharacter(matches, \"player_id\", '\"')\n",
    "matches = removeCharacter(matches, \"opponent_id\", '\"')"
   ]
  },
  {
   "cell_type": "code",
   "execution_count": null,
   "metadata": {},
   "outputs": [],
   "source": [
    "processed_file_path = os.path.join(os.path.abspath(os.path.pardir), \"dataset\", \"processed\", \"all_matches.csv\")\n",
    "matches.write.format(\"csv\").option(\"header\", True).mode('overwrite').save(\"file:///\" + processed_file_path)"
   ]
  },
  {
   "cell_type": "markdown",
   "metadata": {},
   "source": [
    "## Creacion de archivo para ejecutar extraccion de datos"
   ]
  },
  {
   "cell_type": "code",
   "execution_count": null,
   "metadata": {},
   "outputs": [],
   "source": [
    "get_processed_data_script_file = os.path.join(os.path.pardir, \"process_all_matches.py\")"
   ]
  },
  {
   "cell_type": "code",
   "execution_count": 43,
   "metadata": {},
   "outputs": [
    {
     "name": "stdout",
     "output_type": "stream",
     "text": [
      "Overwriting $get_processed_data_script_file\n"
     ]
    }
   ],
   "source": [
    "%%writefile $get_processed_data_script_file\n",
    "import findspark\n",
    "findspark.init()\n",
    "\n",
    "from pyspark.sql import SparkSession\n",
    "from pyspark.sql.types import  (StructType, StructField, DateType, BooleanType, DoubleType, IntegerType, StringType, TimestampType)\n",
    "from pyspark.sql.functions import col, udf\n",
    "import os\n",
    "\n",
    "def extract_data():\n",
    "    spark = SparkSession.builder.master(\"local[1]\").appName(\"tenis-matches\").getOrCreate()\n",
    "    \n",
    "    raw_file_path = os.path.join(os.path.abspath(os.path.pardir), \"dataset\", \"raw\", \"all_matches.csv\")\n",
    "    matches = spark.read.csv(\"file:///\" + raw_file_path, header = True)\n",
    "    \n",
    "    matches = matches.drop(\"end_date\")\\\n",
    "                .drop(\"location\")\\\n",
    "                .drop(\"prize_money\")\\\n",
    "                .drop(\"currency\")\\\n",
    "                .drop(\"round\")\\\n",
    "                .drop(\"serve_rating\")\\\n",
    "                .drop(\"aces\")\\\n",
    "                .drop(\"double_faults\")\\\n",
    "                .drop(\"first_serve_made\")\\\n",
    "                .drop(\"first_serve_attempted\")\\\n",
    "                .drop(\"first_serve_points_made\")\\\n",
    "                .drop(\"first_serve_points_attempted\")\\\n",
    "                .drop(\"second_serve_points_made\")\\\n",
    "                .drop(\"second_serve_points_attempted\")\\\n",
    "                .drop(\"break_points_saved\")\\\n",
    "                .drop(\"break_points_against\")\\\n",
    "                .drop(\"service_games_won\")\\\n",
    "                .drop(\"return_rating\")\\\n",
    "                .drop(\"first_serve_return_points_made\")\\\n",
    "                .drop(\"first_serve_return_points_attempted\")\\\n",
    "                .drop(\"second_serve_return_points_made\")\\\n",
    "                .drop(\"second_serve_return_points_attempted\")\\\n",
    "                .drop(\"break_points_made\")\\\n",
    "                .drop(\"break_points_attempted\")\\\n",
    "                .drop(\"return_games_played\")\\\n",
    "                .drop(\"service_points_won\")\\\n",
    "                .drop(\"service_points_attempted\")\\\n",
    "                .drop(\"return_points_won\")\\\n",
    "                .drop(\"return_points_attempted\")\\\n",
    "                .drop(\"total_points_won\")\\\n",
    "                .drop(\"total_points\")\\\n",
    "                .drop(\"duration\")\\\n",
    "                .drop(\"seed\")\\\n",
    "                .drop(\"masters\")\\\n",
    "                .drop(\"round_num\")\\\n",
    "                .drop(\"nation\")\\\n",
    "                .drop(\"player_name\")\\\n",
    "                .drop(\"opponent_name\")\n",
    "    \n",
    "    matches = matches.na.drop()\n",
    "        \n",
    "    boolean_columns = [\"player_victory\", \"retirement\", \"won_first_set\", \"doubles\"]\n",
    "    matches = parse_boolean_columns(matches, boolean_columns)\n",
    "    \n",
    "    numeric_columns = [\"num_sets\", \"sets_won\", \"games_won\", \"games_against\", \"tiebreaks_won\", \"tiebreaks_total\"]\n",
    "    matches = parse_numeric_columns(matches, numeric_columns)\n",
    "    \n",
    "    matches = removeCharacter(matches, \"tournament\", '\"')\n",
    "    matches = removeCharacter(matches, \"player_id\", '\"')\n",
    "    matches = removeCharacter(matches, \"opponent_id\", '\"')\n",
    "    \n",
    "    return matches\n",
    "\n",
    "def parse_boolean_columns(df, columns):\n",
    "    boolParse = udf(lambda x: True if x == \"t\" else False, BooleanType())\n",
    "    for column in columns:\n",
    "        df = df.withColumn(column, boolParse(col(column)))\n",
    "    return df\n",
    "\n",
    "def parse_numeric_columns(df, columns):\n",
    "    for column in columns:\n",
    "        df = df.withColumn(column, col(column).astype(IntegerType()))\n",
    "    return df\n",
    "\n",
    "def removeCharacter(df, column, char):\n",
    "    removeFn = udf(lambda x: x.replace(char, ''), StringType())\n",
    "    return df.withColumn(column, removeFn(col(column)))\n",
    "\n",
    "if __name__ == '__main__':\n",
    "    df = extract_data()\n",
    "    processed_file_path = os.path.join(os.path.abspath(os.path.pardir), \"dataset\", \"processed\", \"all_matches.csv\")\n",
    "    df.write.format(\"csv\").option(\"header\", True).mode('overwrite').save(\"file:///\" + processed_file_path)"
   ]
  },
  {
   "cell_type": "code",
   "execution_count": 44,
   "metadata": {},
   "outputs": [
    {
     "name": "stderr",
     "output_type": "stream",
     "text": [
      "The system cannot find the path specified.\n",
      "Setting default log level to \"WARN\".\n",
      "To adjust logging level use sc.setLogLevel(newLevel). For SparkR, use setLogLevel(newLevel).\n",
      "2020-11-15 17:36:42,391 WARN util.Utils: Service 'SparkUI' could not bind on port 4040. Attempting port 4041.\n",
      "2020-11-15 17:36:42,392 WARN util.Utils: Service 'SparkUI' could not bind on port 4041. Attempting port 4042.\n",
      "2020-11-15 17:36:48,633 WARN util.Utils: Truncated the string representation of a plan since it was too large. This behavior can be adjusted by setting 'spark.debug.maxToStringFields' in SparkEnv.conf.\n",
      "\n",
      "[Stage 1:>                                                          (0 + 1) / 7]\n",
      "[Stage 1:========>                                                  (1 + 1) / 7]\n",
      "[Stage 1:================>                                          (2 + 1) / 7]\n",
      "[Stage 1:=========================>                                 (3 + 1) / 7]\n",
      "[Stage 1:=================================>                         (4 + 1) / 7]\n",
      "[Stage 1:==========================================>                (5 + 1) / 7]\n",
      "[Stage 1:==================================================>        (6 + 1) / 7]\n",
      "                                                                                \n"
     ]
    },
    {
     "name": "stdout",
     "output_type": "stream",
     "text": [
      "SUCCESS: The process with PID 10400 (child process of PID 16656) has been terminated.\n",
      "SUCCESS: The process with PID 16656 (child process of PID 7872) has been terminated.\n",
      "SUCCESS: The process with PID 7872 (child process of PID 4780) has been terminated.\n"
     ]
    }
   ],
   "source": [
    "!python $get_processed_data_script_file"
   ]
  },
  {
   "cell_type": "code",
   "execution_count": null,
   "metadata": {},
   "outputs": [],
   "source": []
  }
 ],
 "metadata": {
  "kernelspec": {
   "display_name": "Python 3",
   "language": "python",
   "name": "python3"
  },
  "language_info": {
   "codemirror_mode": {
    "name": "ipython",
    "version": 3
   },
   "file_extension": ".py",
   "mimetype": "text/x-python",
   "name": "python",
   "nbconvert_exporter": "python",
   "pygments_lexer": "ipython3",
   "version": "3.7.9"
  }
 },
 "nbformat": 4,
 "nbformat_minor": 4
}
