{
 "cells": [
  {
   "cell_type": "markdown",
   "metadata": {},
   "source": [
    "# Extract and Clean Data from all_matches.csv"
   ]
  },
  {
   "cell_type": "markdown",
   "metadata": {},
   "source": [
    "Primero creamos un Spark Context"
   ]
  },
  {
   "cell_type": "code",
   "execution_count": 1,
   "metadata": {},
   "outputs": [],
   "source": [
    "import findspark\n",
    "findspark.init()\n",
    "\n",
    "from pyspark.sql import SparkSession\n",
    "from pyspark.sql.types import  (StructType, StructField, DateType, BooleanType, DoubleType, IntegerType, StringType, TimestampType)\n",
    "from pyspark.sql.functions import col, udf\n",
    "import os\n",
    "\n",
    "spark = SparkSession.builder.master(\"local[1]\").appName(\"tenis-matches\").getOrCreate()"
   ]
  },
  {
   "cell_type": "code",
   "execution_count": 71,
   "metadata": {},
   "outputs": [],
   "source": [
    "raw_file_path = os.path.join(os.path.abspath(os.path.pardir), \"dataset\", \"raw\", \"all_matches.csv\")\n",
    "matches = spark.read.csv(\"file:///\" + raw_file_path, header = True)"
   ]
  },
  {
   "cell_type": "code",
   "execution_count": 72,
   "metadata": {},
   "outputs": [
    {
     "name": "stdout",
     "output_type": "stream",
     "text": [
      "There are 4295827 matches.\n"
     ]
    }
   ],
   "source": [
    "print(\"There are {} matches.\".format(matches.count()))"
   ]
  },
  {
   "cell_type": "markdown",
   "metadata": {},
   "source": [
    "### Eliminaremos algunas columnas del dataset que no nos sirven"
   ]
  },
  {
   "cell_type": "code",
   "execution_count": 4,
   "metadata": {},
   "outputs": [
    {
     "name": "stdout",
     "output_type": "stream",
     "text": [
      "root\n",
      " |-- start_date: string (nullable = true)\n",
      " |-- end_date: string (nullable = true)\n",
      " |-- location: string (nullable = true)\n",
      " |-- court_surface: string (nullable = true)\n",
      " |-- prize_money: string (nullable = true)\n",
      " |-- currency: string (nullable = true)\n",
      " |-- year: string (nullable = true)\n",
      " |-- player_id: string (nullable = true)\n",
      " |-- player_name: string (nullable = true)\n",
      " |-- opponent_id: string (nullable = true)\n",
      " |-- opponent_name: string (nullable = true)\n",
      " |-- tournament: string (nullable = true)\n",
      " |-- round: string (nullable = true)\n",
      " |-- num_sets: string (nullable = true)\n",
      " |-- sets_won: string (nullable = true)\n",
      " |-- games_won: string (nullable = true)\n",
      " |-- games_against: string (nullable = true)\n",
      " |-- tiebreaks_won: string (nullable = true)\n",
      " |-- tiebreaks_total: string (nullable = true)\n",
      " |-- serve_rating: string (nullable = true)\n",
      " |-- aces: string (nullable = true)\n",
      " |-- double_faults: string (nullable = true)\n",
      " |-- first_serve_made: string (nullable = true)\n",
      " |-- first_serve_attempted: string (nullable = true)\n",
      " |-- first_serve_points_made: string (nullable = true)\n",
      " |-- first_serve_points_attempted: string (nullable = true)\n",
      " |-- second_serve_points_made: string (nullable = true)\n",
      " |-- second_serve_points_attempted: string (nullable = true)\n",
      " |-- break_points_saved: string (nullable = true)\n",
      " |-- break_points_against: string (nullable = true)\n",
      " |-- service_games_won: string (nullable = true)\n",
      " |-- return_rating: string (nullable = true)\n",
      " |-- first_serve_return_points_made: string (nullable = true)\n",
      " |-- first_serve_return_points_attempted: string (nullable = true)\n",
      " |-- second_serve_return_points_made: string (nullable = true)\n",
      " |-- second_serve_return_points_attempted: string (nullable = true)\n",
      " |-- break_points_made: string (nullable = true)\n",
      " |-- break_points_attempted: string (nullable = true)\n",
      " |-- return_games_played: string (nullable = true)\n",
      " |-- service_points_won: string (nullable = true)\n",
      " |-- service_points_attempted: string (nullable = true)\n",
      " |-- return_points_won: string (nullable = true)\n",
      " |-- return_points_attempted: string (nullable = true)\n",
      " |-- total_points_won: string (nullable = true)\n",
      " |-- total_points: string (nullable = true)\n",
      " |-- duration: string (nullable = true)\n",
      " |-- player_victory: string (nullable = true)\n",
      " |-- retirement: string (nullable = true)\n",
      " |-- seed: string (nullable = true)\n",
      " |-- won_first_set: string (nullable = true)\n",
      " |-- doubles: string (nullable = true)\n",
      " |-- masters: string (nullable = true)\n",
      " |-- round_num: string (nullable = true)\n",
      " |-- nation: string (nullable = true)\n",
      "\n"
     ]
    }
   ],
   "source": [
    "matches.printSchema()"
   ]
  },
  {
   "cell_type": "markdown",
   "metadata": {},
   "source": [
    "Eliminaremos las siguientes columnas que no serán útiles para nuestro análisis:\n",
    "- end_date\n",
    "- location\n",
    "- prize_money\n",
    "- currency\n",
    "- round\n",
    "- serve_rating\n",
    "- aces\n",
    "- double_faults\n",
    "- first_serve_made\n",
    "- first_serve_attempted\n",
    "- first_serve_points_made\n",
    "- first_serve_points_attempted\n",
    "- second_serve_points_made\n",
    "- second_serve_points_attempted\n",
    "- break_points_saved\n",
    "- break_points_against\n",
    "- service_games_won\n",
    "- return_rating\n",
    "- first_serve_return_points_made\n",
    "- first_serve_return_points_attempted\n",
    "- second_serve_return_points_made\n",
    "- second_serve_return_points_attempted\n",
    "- break_points_made\n",
    "- break_points_attempted\n",
    "- return_games_played\n",
    "- service_points_won\n",
    "- service_points_attempted\n",
    "- return_points_won\n",
    "- return_points_attempted\n",
    "- total_points_won\n",
    "- total_points\n",
    "- duration\n",
    "- seed\n",
    "- masters\n",
    "- round_num\n",
    "- nation"
   ]
  },
  {
   "cell_type": "code",
   "execution_count": 5,
   "metadata": {},
   "outputs": [],
   "source": [
    "matches = matches.drop(\"end_date\")\\\n",
    "                .drop(\"location\")\\\n",
    "                .drop(\"prize_money\")\\\n",
    "                .drop(\"currency\")\\\n",
    "                .drop(\"round\")\\\n",
    "                .drop(\"serve_rating\")\\\n",
    "                .drop(\"aces\")\\\n",
    "                .drop(\"double_faults\")\\\n",
    "                .drop(\"first_serve_made\")\\\n",
    "                .drop(\"first_serve_attempted\")\\\n",
    "                .drop(\"first_serve_points_made\")\\\n",
    "                .drop(\"first_serve_points_attempted\")\\\n",
    "                .drop(\"second_serve_points_made\")\\\n",
    "                .drop(\"second_serve_points_attempted\")\\\n",
    "                .drop(\"break_points_saved\")\\\n",
    "                .drop(\"break_points_against\")\\\n",
    "                .drop(\"service_games_won\")\\\n",
    "                .drop(\"return_rating\")\\\n",
    "                .drop(\"first_serve_return_points_made\")\\\n",
    "                .drop(\"first_serve_return_points_attempted\")\\\n",
    "                .drop(\"second_serve_return_points_made\")\\\n",
    "                .drop(\"second_serve_return_points_attempted\")\\\n",
    "                .drop(\"break_points_made\")\\\n",
    "                .drop(\"break_points_attempted\")\\\n",
    "                .drop(\"return_games_played\")\\\n",
    "                .drop(\"service_points_won\")\\\n",
    "                .drop(\"service_points_attempted\")\\\n",
    "                .drop(\"return_points_won\")\\\n",
    "                .drop(\"return_points_attempted\")\\\n",
    "                .drop(\"total_points_won\")\\\n",
    "                .drop(\"total_points\")\\\n",
    "                .drop(\"duration\")\\\n",
    "                .drop(\"seed\")\\\n",
    "                .drop(\"masters\")\\\n",
    "                .drop(\"round_num\")\\\n",
    "                .drop(\"nation\")"
   ]
  },
  {
   "cell_type": "code",
   "execution_count": 6,
   "metadata": {},
   "outputs": [
    {
     "name": "stdout",
     "output_type": "stream",
     "text": [
      "root\n",
      " |-- start_date: string (nullable = true)\n",
      " |-- court_surface: string (nullable = true)\n",
      " |-- year: string (nullable = true)\n",
      " |-- player_id: string (nullable = true)\n",
      " |-- player_name: string (nullable = true)\n",
      " |-- opponent_id: string (nullable = true)\n",
      " |-- opponent_name: string (nullable = true)\n",
      " |-- tournament: string (nullable = true)\n",
      " |-- num_sets: string (nullable = true)\n",
      " |-- sets_won: string (nullable = true)\n",
      " |-- games_won: string (nullable = true)\n",
      " |-- games_against: string (nullable = true)\n",
      " |-- tiebreaks_won: string (nullable = true)\n",
      " |-- tiebreaks_total: string (nullable = true)\n",
      " |-- player_victory: string (nullable = true)\n",
      " |-- retirement: string (nullable = true)\n",
      " |-- won_first_set: string (nullable = true)\n",
      " |-- doubles: string (nullable = true)\n",
      "\n"
     ]
    }
   ],
   "source": [
    "matches.printSchema()"
   ]
  },
  {
   "cell_type": "markdown",
   "metadata": {},
   "source": [
    "Eliminaremos registros con muchos valores nulos"
   ]
  },
  {
   "cell_type": "code",
   "execution_count": 7,
   "metadata": {},
   "outputs": [],
   "source": [
    "# define functions to iterate in a generic way in dataframe\n",
    "\n",
    "def print_null_value_count(df, column_name):\n",
    "    null_values_count = df.where(df[column_name].isNull()).count()\n",
    "    print(\"Cantidad de valores nulos para {0} : {1}.\".format(column_name, null_values_count))\n",
    "    \n",
    "def get_null_values_in_dataframe(df):\n",
    "    for column in df.columns:\n",
    "        print_null_value_count(df, column)"
   ]
  },
  {
   "cell_type": "code",
   "execution_count": 8,
   "metadata": {},
   "outputs": [
    {
     "name": "stdout",
     "output_type": "stream",
     "text": [
      "Cantidad de valores nulos para start_date : 0.\n",
      "Cantidad de valores nulos para court_surface : 13628.\n",
      "Cantidad de valores nulos para year : 0.\n",
      "Cantidad de valores nulos para player_id : 0.\n",
      "Cantidad de valores nulos para player_name : 3941422.\n",
      "Cantidad de valores nulos para opponent_id : 0.\n",
      "Cantidad de valores nulos para opponent_name : 3941422.\n",
      "Cantidad de valores nulos para tournament : 0.\n",
      "Cantidad de valores nulos para num_sets : 2388.\n",
      "Cantidad de valores nulos para sets_won : 2388.\n",
      "Cantidad de valores nulos para games_won : 2388.\n",
      "Cantidad de valores nulos para games_against : 2388.\n",
      "Cantidad de valores nulos para tiebreaks_won : 2388.\n",
      "Cantidad de valores nulos para tiebreaks_total : 2388.\n",
      "Cantidad de valores nulos para player_victory : 2388.\n",
      "Cantidad de valores nulos para retirement : 7216.\n",
      "Cantidad de valores nulos para won_first_set : 64485.\n",
      "Cantidad de valores nulos para doubles : 0.\n"
     ]
    }
   ],
   "source": [
    "get_null_values_in_dataframe(matches)"
   ]
  },
  {
   "cell_type": "markdown",
   "metadata": {},
   "source": [
    "En base a los datos obtenidos, es que se decide eliminar las siguientes columnas debido a que muchos valores son nulos, y además esta será obtenida de otro dataset:\n",
    "- player_name\n",
    "- opponent_name"
   ]
  },
  {
   "cell_type": "code",
   "execution_count": 9,
   "metadata": {},
   "outputs": [],
   "source": [
    "matches = matches.drop(\"player_name\").drop(\"opponent_name\")"
   ]
  },
  {
   "cell_type": "markdown",
   "metadata": {},
   "source": [
    "Luego, eliminaremos los datos donde tengan alguna propiedad nula."
   ]
  },
  {
   "cell_type": "code",
   "execution_count": 10,
   "metadata": {},
   "outputs": [],
   "source": [
    "matches = matches.na.drop()"
   ]
  },
  {
   "cell_type": "markdown",
   "metadata": {},
   "source": [
    "Comprobamos no existan datos con propiedades nulas"
   ]
  },
  {
   "cell_type": "code",
   "execution_count": 11,
   "metadata": {},
   "outputs": [
    {
     "name": "stdout",
     "output_type": "stream",
     "text": [
      "Cantidad de valores nulos para start_date : 0.\n",
      "Cantidad de valores nulos para court_surface : 0.\n",
      "Cantidad de valores nulos para year : 0.\n",
      "Cantidad de valores nulos para player_id : 0.\n",
      "Cantidad de valores nulos para opponent_id : 0.\n",
      "Cantidad de valores nulos para tournament : 0.\n",
      "Cantidad de valores nulos para num_sets : 0.\n",
      "Cantidad de valores nulos para sets_won : 0.\n",
      "Cantidad de valores nulos para games_won : 0.\n",
      "Cantidad de valores nulos para games_against : 0.\n",
      "Cantidad de valores nulos para tiebreaks_won : 0.\n",
      "Cantidad de valores nulos para tiebreaks_total : 0.\n",
      "Cantidad de valores nulos para player_victory : 0.\n",
      "Cantidad de valores nulos para retirement : 0.\n",
      "Cantidad de valores nulos para won_first_set : 0.\n",
      "Cantidad de valores nulos para doubles : 0.\n"
     ]
    }
   ],
   "source": [
    "get_null_values_in_dataframe(matches)"
   ]
  },
  {
   "cell_type": "code",
   "execution_count": 12,
   "metadata": {},
   "outputs": [
    {
     "name": "stdout",
     "output_type": "stream",
     "text": [
      "Nueva cantidad de partidos : 4213346\n"
     ]
    }
   ],
   "source": [
    "print(\"Nueva cantidad de partidos : {0}\".format(matches.select(\"*\").count()))"
   ]
  },
  {
   "cell_type": "markdown",
   "metadata": {},
   "source": [
    "### Modificaremos los tipos de algunos datos para que sean mas amigables luego"
   ]
  },
  {
   "cell_type": "code",
   "execution_count": 40,
   "metadata": {},
   "outputs": [
    {
     "name": "stdout",
     "output_type": "stream",
     "text": [
      "root\n",
      " |-- start_date: string (nullable = true)\n",
      " |-- court_surface: string (nullable = true)\n",
      " |-- year: string (nullable = true)\n",
      " |-- player_id: string (nullable = true)\n",
      " |-- opponent_id: string (nullable = true)\n",
      " |-- tournament: string (nullable = true)\n",
      " |-- num_sets: string (nullable = true)\n",
      " |-- sets_won: string (nullable = true)\n",
      " |-- games_won: string (nullable = true)\n",
      " |-- games_against: string (nullable = true)\n",
      " |-- tiebreaks_won: string (nullable = true)\n",
      " |-- tiebreaks_total: string (nullable = true)\n",
      " |-- player_victory: string (nullable = true)\n",
      " |-- retirement: string (nullable = true)\n",
      " |-- won_first_set: string (nullable = true)\n",
      " |-- doubles: string (nullable = true)\n",
      "\n"
     ]
    }
   ],
   "source": [
    "matches.printSchema()"
   ]
  },
  {
   "cell_type": "markdown",
   "metadata": {},
   "source": [
    "Observaremos los tipos que deberían ser booleanos"
   ]
  },
  {
   "cell_type": "code",
   "execution_count": 41,
   "metadata": {},
   "outputs": [
    {
     "name": "stdout",
     "output_type": "stream",
     "text": [
      "+--------------+----------+-------------+-------+\n",
      "|player_victory|retirement|won_first_set|doubles|\n",
      "+--------------+----------+-------------+-------+\n",
      "|             f|         f|            f|      f|\n",
      "|             t|         f|            t|      f|\n",
      "|             f|         f|            f|      f|\n",
      "|             f|         f|            t|      t|\n",
      "|             t|         f|            t|      f|\n",
      "+--------------+----------+-------------+-------+\n",
      "only showing top 5 rows\n",
      "\n"
     ]
    }
   ],
   "source": [
    "boolean_columns = [\"player_victory\", \"retirement\", \"won_first_set\", \"doubles\"]\n",
    "matches.select(boolean_columns).show(5)"
   ]
  },
  {
   "cell_type": "markdown",
   "metadata": {},
   "source": [
    "Pondremos valores de True y False, en lugar de f y t."
   ]
  },
  {
   "cell_type": "code",
   "execution_count": 45,
   "metadata": {},
   "outputs": [],
   "source": [
    "from pyspark.sql.functions import col,udf\n",
    "\n",
    "boolParse = udf(lambda x: True if x == \"t\" else False, BooleanType())\n",
    "\n",
    "def parse_boolean_columns(df, columns):\n",
    "    for column in columns:\n",
    "        df = df.withColumn(column, boolParse(col(column)))\n",
    "    return df"
   ]
  },
  {
   "cell_type": "code",
   "execution_count": 46,
   "metadata": {},
   "outputs": [],
   "source": [
    "matches = parse_boolean_columns(matches, boolean_columns)"
   ]
  },
  {
   "cell_type": "code",
   "execution_count": 47,
   "metadata": {},
   "outputs": [
    {
     "name": "stdout",
     "output_type": "stream",
     "text": [
      "+--------------+----------+-------------+-------+\n",
      "|player_victory|retirement|won_first_set|doubles|\n",
      "+--------------+----------+-------------+-------+\n",
      "|         false|     false|        false|  false|\n",
      "|          true|     false|         true|  false|\n",
      "|         false|     false|        false|  false|\n",
      "|         false|     false|         true|   true|\n",
      "|          true|     false|         true|  false|\n",
      "+--------------+----------+-------------+-------+\n",
      "only showing top 5 rows\n",
      "\n"
     ]
    }
   ],
   "source": [
    "matches.select(boolean_columns).show(5)"
   ]
  },
  {
   "cell_type": "code",
   "execution_count": 48,
   "metadata": {},
   "outputs": [],
   "source": [
    "processed_file_path = os.path.join(os.path.abspath(os.path.pardir), \"dataset\", \"processed\", \"all_matches.csv\")\n",
    "matches.write.format(\"csv\").option(\"header\", True).mode('overwrite').save(\"file:///\" + processed_file_path)"
   ]
  },
  {
   "cell_type": "markdown",
   "metadata": {},
   "source": [
    "## Creacion de archivo para ejecutar extraccion de datos"
   ]
  },
  {
   "cell_type": "code",
   "execution_count": 62,
   "metadata": {},
   "outputs": [],
   "source": [
    "get_processed_data_script_file = os.path.join(os.path.pardir, \"process_all_matches.py\")"
   ]
  },
  {
   "cell_type": "code",
   "execution_count": 73,
   "metadata": {},
   "outputs": [
    {
     "name": "stdout",
     "output_type": "stream",
     "text": [
      "Overwriting ..\\process_all_matches.py\n"
     ]
    }
   ],
   "source": [
    "%%writefile $get_processed_data_script_file\n",
    "import findspark\n",
    "findspark.init()\n",
    "\n",
    "from pyspark.sql import SparkSession\n",
    "from pyspark.sql.types import  (StructType, StructField, DateType, BooleanType, DoubleType, IntegerType, StringType, TimestampType)\n",
    "from pyspark.sql.functions import col, udf\n",
    "import os\n",
    "\n",
    "def extract_data():\n",
    "    spark = SparkSession.builder.master(\"local[1]\").appName(\"tenis-matches\").getOrCreate()\n",
    "    \n",
    "    raw_file_path = os.path.join(os.path.abspath(os.path.pardir), \"dataset\", \"raw\", \"all_matches.csv\")\n",
    "    matches = spark.read.csv(\"file:///\" + raw_file_path, header = True)\n",
    "    \n",
    "    matches = matches.drop(\"end_date\")\\\n",
    "                .drop(\"location\")\\\n",
    "                .drop(\"prize_money\")\\\n",
    "                .drop(\"currency\")\\\n",
    "                .drop(\"round\")\\\n",
    "                .drop(\"serve_rating\")\\\n",
    "                .drop(\"aces\")\\\n",
    "                .drop(\"double_faults\")\\\n",
    "                .drop(\"first_serve_made\")\\\n",
    "                .drop(\"first_serve_attempted\")\\\n",
    "                .drop(\"first_serve_points_made\")\\\n",
    "                .drop(\"first_serve_points_attempted\")\\\n",
    "                .drop(\"second_serve_points_made\")\\\n",
    "                .drop(\"second_serve_points_attempted\")\\\n",
    "                .drop(\"break_points_saved\")\\\n",
    "                .drop(\"break_points_against\")\\\n",
    "                .drop(\"service_games_won\")\\\n",
    "                .drop(\"return_rating\")\\\n",
    "                .drop(\"first_serve_return_points_made\")\\\n",
    "                .drop(\"first_serve_return_points_attempted\")\\\n",
    "                .drop(\"second_serve_return_points_made\")\\\n",
    "                .drop(\"second_serve_return_points_attempted\")\\\n",
    "                .drop(\"break_points_made\")\\\n",
    "                .drop(\"break_points_attempted\")\\\n",
    "                .drop(\"return_games_played\")\\\n",
    "                .drop(\"service_points_won\")\\\n",
    "                .drop(\"service_points_attempted\")\\\n",
    "                .drop(\"return_points_won\")\\\n",
    "                .drop(\"return_points_attempted\")\\\n",
    "                .drop(\"total_points_won\")\\\n",
    "                .drop(\"total_points\")\\\n",
    "                .drop(\"duration\")\\\n",
    "                .drop(\"seed\")\\\n",
    "                .drop(\"masters\")\\\n",
    "                .drop(\"round_num\")\\\n",
    "                .drop(\"nation\")\\\n",
    "                .drop(\"player_name\")\\\n",
    "                .drop(\"opponent_name\")\n",
    "    \n",
    "    matches = matches.na.drop()\n",
    "        \n",
    "    boolean_columns = [\"player_victory\", \"retirement\", \"won_first_set\", \"doubles\"]\n",
    "    matches = parse_boolean_columns(matches, boolean_columns)\n",
    "    \n",
    "    return matches\n",
    "\n",
    "def parse_boolean_columns(df, columns):\n",
    "    boolParse = udf(lambda x: True if x == \"t\" else False, BooleanType())\n",
    "    for column in columns:\n",
    "        df = df.withColumn(column, boolParse(col(column)))\n",
    "    return df\n",
    "\n",
    "if __name__ == '__main__':\n",
    "    df = extract_data()\n",
    "    processed_file_path = os.path.join(os.path.abspath(os.path.pardir), \"dataset\", \"processed\", \"all_matches.csv\")\n",
    "    df.write.format(\"csv\").option(\"header\", True).mode('overwrite').save(\"file:///\" + processed_file_path)"
   ]
  },
  {
   "cell_type": "code",
   "execution_count": 74,
   "metadata": {},
   "outputs": [
    {
     "name": "stdout",
     "output_type": "stream",
     "text": [
      "SUCCESS: The process with PID 11300 (child process of PID 19540) has been terminated.\n",
      "SUCCESS: The process with PID 19540 (child process of PID 3984) has been terminated.\n",
      "SUCCESS: The process with PID 3984 (child process of PID 1476) has been terminated.\n"
     ]
    },
    {
     "name": "stderr",
     "output_type": "stream",
     "text": [
      "The system cannot find the path specified.\n",
      "Setting default log level to \"WARN\".\n",
      "To adjust logging level use sc.setLogLevel(newLevel). For SparkR, use setLogLevel(newLevel).\n",
      "2020-11-09 22:48:59,033 WARN util.Utils: Service 'SparkUI' could not bind on port 4040. Attempting port 4041.\n",
      "2020-11-09 22:48:59,034 WARN util.Utils: Service 'SparkUI' could not bind on port 4041. Attempting port 4042.\n",
      "2020-11-09 22:48:59,034 WARN util.Utils: Service 'SparkUI' could not bind on port 4042. Attempting port 4043.\n",
      "Traceback (most recent call last):\n",
      "  File \"..\\process_all_matches.py\", line 67, in <module>\n",
      "    df = extract_data()\n",
      "  File \"..\\process_all_matches.py\", line 11, in extract_data\n",
      "    raw_file_path = os.path.join(os.path.abspath(os.path.pardir), \"dataset\", \"raw\", \"all_matches.csv\")\n",
      "NameError: name 'os' is not defined\n"
     ]
    }
   ],
   "source": [
    "!python $get_processed_data_script_file"
   ]
  },
  {
   "cell_type": "code",
   "execution_count": null,
   "metadata": {},
   "outputs": [],
   "source": []
  }
 ],
 "metadata": {
  "kernelspec": {
   "display_name": "Python 3",
   "language": "python",
   "name": "python3"
  },
  "language_info": {
   "codemirror_mode": {
    "name": "ipython",
    "version": 3
   },
   "file_extension": ".py",
   "mimetype": "text/x-python",
   "name": "python",
   "nbconvert_exporter": "python",
   "pygments_lexer": "ipython3",
   "version": "3.7.9"
  }
 },
 "nbformat": 4,
 "nbformat_minor": 4
}
